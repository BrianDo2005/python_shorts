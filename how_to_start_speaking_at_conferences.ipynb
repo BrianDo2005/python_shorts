{
 "cells": [
  {
   "cell_type": "markdown",
   "metadata": {},
   "source": [
    "## How to start speaking at conferences\n",
    "\n",
    "This is a summary of a fantastic Twitter thread that happened [here](https://twitter.com/KevinGoldsmith/status/963850794440187904)\n",
    "\n",
    "1. You do not have to be an expert to talk.\n",
    "    > I always point new speakers to talking about what they have learned working with a technology. It is a viewpoint unique to them and it is more relatable. Everyone is a world-level expert on their own story. \n",
    "                                        - @KevinGoldsmith\n",
    "2. There are places that actively encourage new speakers - seek them out (in particular: local usergroups and meetups).\n",
    "3. Tell people around you that you would like to public speak! You will be surprised to how many speaking opportunities this might lead you!\n",
    "4. If you would like to practice speaking in an environment specficially designed for learning, [Toastmasters](https://twitter.com/Toastmasters) seems like a popular choice.\n",
    "5. Above all, speak, speak and speak some more!"
   ]
  }
 ],
 "metadata": {
  "kernelspec": {
   "display_name": "Python 3",
   "language": "python",
   "name": "python3"
  },
  "language_info": {
   "codemirror_mode": {
    "name": "ipython",
    "version": 3
   },
   "file_extension": ".py",
   "mimetype": "text/x-python",
   "name": "python",
   "nbconvert_exporter": "python",
   "pygments_lexer": "ipython3",
   "version": "3.6.4"
  }
 },
 "nbformat": 4,
 "nbformat_minor": 2
}
