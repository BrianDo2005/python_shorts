{
 "cells": [
  {
   "cell_type": "markdown",
   "metadata": {},
   "source": [
    "## Exuberant ctags with vim\n",
    "\n",
    "Exuberant ctags allow you to jump to definition of the method / object you have under your cursor. Here is how to set them up:\n",
    "\n",
    "1. Run `sudo apt install exuberant-ctags`\n",
    "2. Create `.ctags` file in your home directory\n",
    "    \n",
    "    This file is for storing configuration, mine looks like this:\n",
    "        --exclude=.git\n",
    "        --exclude=node_modules\n",
    "        --exclude=log\n",
    "        --exclude=vendor\n",
    "        --exclude=tmp\n",
    "        --exclude=legacy       <-- very nice for working with pytorch\n",
    "        \n",
    "3. Navigate to a directory with code you are working on.\n",
    "4. This directory will be searched automatically. Create a file listing other directories you would like to index.\n",
    "\n",
    "    In root of the fastai library I have a .srclist file containing the following line:\n",
    "        /home/radek/workspace/pytorch\n",
    "5. Run `ctags -R -L .srclist .`\n",
    "    * `-R` tells ctags to recursively look at directories within the current directory\n",
    "    * `-L` tells ctags to look at the listed locations\n",
    "6. You are now ready to start using ctags in vim\n",
    "    * `ctrl+]` takes you to the tag under cursor\n",
    "    * `ctrl+t` takes you back\n",
    "    \n",
    "    For tags resolving to multiple source locations\n",
    "    * `:tnext` or `:tn` takes you to the next location\n",
    "    * `:tprev` or `:tp` takes you to the previous loation\n",
    "    * `:ts` lists all source locations\n",
    "7. There are many ways to refresh the tags when code changes. Three popular choices:\n",
    "    * rerunning the command manually\n",
    "    * using [vim-tags](https://github.com/szw/vim-tags)\n",
    "    * adding a crontab entry, for example `15 * * * * ctags -R -L .srclist ~/workspace/fastai/fastai`"
   ]
  },
  {
   "cell_type": "markdown",
   "metadata": {},
   "source": [
    "### Suggestions from Jeremy Howard\n",
    "\n",
    "* `:tag` is handy and supports tab completion\n",
    "* mapping `ctrl-]` to  `:ts` is a good idea\n",
    "\n",
    "    This is what you need to add to `.vimrc` for this:\n",
    "        noremap <C-]> g<C-]>\n",
    "    (gives you a list for multiple defs and jumps immediately for single def)"
   ]
  }
 ],
 "metadata": {
  "kernelspec": {
   "display_name": "Python 3",
   "language": "python",
   "name": "python3"
  },
  "language_info": {
   "codemirror_mode": {
    "name": "ipython",
    "version": 3
   },
   "file_extension": ".py",
   "mimetype": "text/x-python",
   "name": "python",
   "nbconvert_exporter": "python",
   "pygments_lexer": "ipython3",
   "version": "3.6.4"
  }
 },
 "nbformat": 4,
 "nbformat_minor": 2
}
