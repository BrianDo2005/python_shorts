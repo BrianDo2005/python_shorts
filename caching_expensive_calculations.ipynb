{
 "cells": [
  {
   "cell_type": "markdown",
   "metadata": {},
   "source": [
    "# Caching expensive calculations\n",
    "\n",
    "Say we have a calculation that is expensive to perform. Additionally, let’s make the results of the calculation interesting enough that we would like to access them from various places in our code."
   ]
  },
  {
   "cell_type": "code",
   "execution_count": 1,
   "metadata": {
    "collapsed": true
   },
   "outputs": [],
   "source": [
    "from functools import lru_cache\n",
    "from collections import Counter\n",
    "import time\n",
    "import torch\n",
    "import numpy as np\n",
    "from torchvision.datasets import ImageFolder"
   ]
  },
  {
   "cell_type": "code",
   "execution_count": 2,
   "metadata": {
    "collapsed": true
   },
   "outputs": [],
   "source": [
    "class ExtendedFolder(ImageFolder):\n",
    "    def __init__(self): pass\n",
    "    \n",
    "    def get_img_dims(self):\n",
    "        time.sleep(5) # looking at a lot of files\n",
    "        return [(10, 20), (10, 20), (40, 40)]\n",
    "    \n",
    "class Analytics():\n",
    "    def __init__(self, dataset):\n",
    "        self.dataset = dataset\n",
    "        \n",
    "    def get_dim_counts(self):\n",
    "        return Counter(self.dataset.get_img_dims())\n",
    "    \n",
    "def get_noise_masks(dims):\n",
    "    return [np.random.randn(*dim) for dim in dims]"
   ]
  },
  {
   "cell_type": "code",
   "execution_count": 3,
   "metadata": {},
   "outputs": [
    {
     "name": "stdout",
     "output_type": "stream",
     "text": [
      "Counts per dimension: Counter({(10, 20): 2, (40, 40): 1})\n",
      "CPU times: user 4 ms, sys: 4 ms, total: 8 ms\n",
      "Wall time: 10 s\n"
     ]
    }
   ],
   "source": [
    "%%time\n",
    "dataset = ExtendedFolder()\n",
    "analytics = Analytics(dataset)\n",
    "\n",
    "print(f'Counts per dimension: {analytics.get_dim_counts()}')\n",
    "# getting noise masks to experiment with regularization\n",
    "msks = get_noise_masks(dataset.get_img_dims()) # making a second call to dataset.get_img_dims()"
   ]
  },
  {
   "cell_type": "markdown",
   "metadata": {},
   "source": [
    "How can we access the results without having to run the calculation again? We could store them somewhere and run the calculation conditionally."
   ]
  },
  {
   "cell_type": "code",
   "execution_count": 4,
   "metadata": {
    "collapsed": true
   },
   "outputs": [],
   "source": [
    "class ExtendedFolder(ImageFolder):\n",
    "    def __init__(self):\n",
    "        self._img_dims = None\n",
    "    \n",
    "    def get_img_dims(self):\n",
    "        if not self._img_dims:\n",
    "            time.sleep(5) # looking at a lot of files\n",
    "            self._img_dims = [(10, 20), (10, 20), (40, 40)]\n",
    "        return self._img_dims\n",
    "    \n",
    "class Analytics():\n",
    "    def __init__(self, dataset):\n",
    "        self.dataset = dataset\n",
    "        \n",
    "    def get_dim_counts(self):\n",
    "        return Counter(self.dataset.get_img_dims())\n",
    "    \n",
    "def get_noise_masks(dims):\n",
    "    return [np.random.randn(*dim) for dim in dims]"
   ]
  },
  {
   "cell_type": "code",
   "execution_count": 5,
   "metadata": {},
   "outputs": [
    {
     "name": "stdout",
     "output_type": "stream",
     "text": [
      "Counts per dimension: Counter({(10, 20): 2, (40, 40): 1})\n",
      "CPU times: user 4 ms, sys: 0 ns, total: 4 ms\n",
      "Wall time: 5.01 s\n"
     ]
    }
   ],
   "source": [
    "%%time\n",
    "dataset = ExtendedFolder()\n",
    "analytics = Analytics(dataset)\n",
    "\n",
    "print(f'Counts per dimension: {analytics.get_dim_counts()}')\n",
    "msks = get_noise_masks(dataset.get_img_dims())"
   ]
  },
  {
   "cell_type": "markdown",
   "metadata": {},
   "source": [
    "But this is not very elegant and requires additional lines of code. We can do better.\n",
    "\n",
    "There exists a technique tailored solving this specific problem. It is called [memoization](https://en.wikipedia.org/wiki/Memoization). In Python, all it takes is adding the lru_cache decorator to enable it."
   ]
  },
  {
   "cell_type": "code",
   "execution_count": 6,
   "metadata": {
    "collapsed": true
   },
   "outputs": [],
   "source": [
    "class ExtendedFolder(ImageFolder):\n",
    "    def __init__(self): pass\n",
    "    \n",
    "    @lru_cache()\n",
    "    def get_img_dims(self):\n",
    "        time.sleep(5) # looking at a lot of files\n",
    "        return [(10, 20), (10, 20), (40, 40)]\n",
    "    \n",
    "class Analytics():\n",
    "    def __init__(self, dataset):\n",
    "        self.dataset = dataset\n",
    "        \n",
    "    def get_dim_counts(self):\n",
    "        return Counter(self.dataset.get_img_dims())\n",
    "    \n",
    "def get_noise_masks(dims):\n",
    "    return [np.random.randn(*dim) for dim in dims]"
   ]
  },
  {
   "cell_type": "code",
   "execution_count": 7,
   "metadata": {},
   "outputs": [
    {
     "name": "stdout",
     "output_type": "stream",
     "text": [
      "Counts per dimension: Counter({(10, 20): 2, (40, 40): 1})\n",
      "CPU times: user 4 ms, sys: 0 ns, total: 4 ms\n",
      "Wall time: 5.01 s\n"
     ]
    }
   ],
   "source": [
    "%%time\n",
    "dataset = ExtendedFolder()\n",
    "analytics = Analytics(dataset)\n",
    "\n",
    "print(f'Counts per dimension: {analytics.get_dim_counts()}')\n",
    "msks = get_noise_masks(dataset.get_img_dims())"
   ]
  },
  {
   "cell_type": "markdown",
   "metadata": {},
   "source": [
    "Our code is clean and easy to read.\n",
    "\n",
    "On top of that, we get full benefits of memoization!\n",
    "Our results get cached on a per argument basis."
   ]
  },
  {
   "cell_type": "code",
   "execution_count": 8,
   "metadata": {
    "collapsed": true
   },
   "outputs": [],
   "source": [
    "arr_A = np.random.rand(1000, 1000)\n",
    "\n",
    "@lru_cache()\n",
    "def invert_and_multiply(coeff):\n",
    "    np.linalg.inv(arr_A) * coeff"
   ]
  },
  {
   "cell_type": "code",
   "execution_count": 9,
   "metadata": {},
   "outputs": [
    {
     "name": "stdout",
     "output_type": "stream",
     "text": [
      "CPU times: user 760 ms, sys: 28 ms, total: 788 ms\n",
      "Wall time: 697 ms\n"
     ]
    }
   ],
   "source": [
    "%%time\n",
    "invert_and_multiply(2)"
   ]
  },
  {
   "cell_type": "code",
   "execution_count": 10,
   "metadata": {},
   "outputs": [
    {
     "name": "stdout",
     "output_type": "stream",
     "text": [
      "CPU times: user 0 ns, sys: 0 ns, total: 0 ns\n",
      "Wall time: 11.9 µs\n"
     ]
    }
   ],
   "source": [
    "%%time\n",
    "invert_and_multiply(2)"
   ]
  },
  {
   "cell_type": "code",
   "execution_count": 11,
   "metadata": {},
   "outputs": [
    {
     "name": "stdout",
     "output_type": "stream",
     "text": [
      "CPU times: user 572 ms, sys: 12 ms, total: 584 ms\n",
      "Wall time: 385 ms\n"
     ]
    }
   ],
   "source": [
    "%%time\n",
    "invert_and_multiply(5)"
   ]
  },
  {
   "cell_type": "markdown",
   "metadata": {},
   "source": [
    "We get access to diagnostic information."
   ]
  },
  {
   "cell_type": "code",
   "execution_count": 12,
   "metadata": {},
   "outputs": [
    {
     "data": {
      "text/plain": [
       "CacheInfo(hits=1, misses=2, maxsize=128, currsize=2)"
      ]
     },
     "execution_count": 12,
     "metadata": {},
     "output_type": "execute_result"
    }
   ],
   "source": [
    "invert_and_multiply.cache_info()"
   ]
  },
  {
   "cell_type": "markdown",
   "metadata": {},
   "source": [
    "And we can expire the cache at will."
   ]
  },
  {
   "cell_type": "code",
   "execution_count": 13,
   "metadata": {},
   "outputs": [
    {
     "name": "stdout",
     "output_type": "stream",
     "text": [
      "CPU times: user 0 ns, sys: 0 ns, total: 0 ns\n",
      "Wall time: 11.9 µs\n"
     ]
    }
   ],
   "source": [
    "%%time\n",
    "invert_and_multiply(2)"
   ]
  },
  {
   "cell_type": "code",
   "execution_count": 14,
   "metadata": {
    "collapsed": true
   },
   "outputs": [],
   "source": [
    "invert_and_multiply.cache_clear()"
   ]
  },
  {
   "cell_type": "code",
   "execution_count": 15,
   "metadata": {},
   "outputs": [
    {
     "name": "stdout",
     "output_type": "stream",
     "text": [
      "CPU times: user 460 ms, sys: 0 ns, total: 460 ms\n",
      "Wall time: 250 ms\n"
     ]
    }
   ],
   "source": [
    "%%time\n",
    "invert_and_multiply(2)"
   ]
  }
 ],
 "metadata": {
  "kernelspec": {
   "display_name": "Python 3",
   "language": "python",
   "name": "python3"
  },
  "language_info": {
   "codemirror_mode": {
    "name": "ipython",
    "version": 3
   },
   "file_extension": ".py",
   "mimetype": "text/x-python",
   "name": "python",
   "nbconvert_exporter": "python",
   "pygments_lexer": "ipython3",
   "version": "3.6.4"
  }
 },
 "nbformat": 4,
 "nbformat_minor": 2
}
