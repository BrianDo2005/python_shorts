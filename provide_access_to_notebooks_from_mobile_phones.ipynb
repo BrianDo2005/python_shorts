{
 "cells": [
  {
   "cell_type": "markdown",
   "metadata": {},
   "source": [
    "# Providing access from mobile phones to notebooks shared on GitHub\n",
    "\n",
    "If you are sharing something on GitHub, chances are you doing so to collaborate with others or to be helpful. It's hard to achieve either if people cannot accesss what you publish. \n",
    "\n",
    "In 2017, mobile Internet traffic had a share of [52.64% of global traffic](https://www.statista.com/topics/779/mobile-internet/). More importantly though, there are places around the world where the only reliable mean for accessing the Internet is mobile. It would be particularly unkind leaving people out based on geography.\n",
    "\n",
    "Luckily for us, the solution(s) are very simple. I present two simple ways to fix this problem below:\n",
    "\n",
    "### Linking from README.md to nbviewer\n",
    "1. Create a README.md in the root of your repospitory\n",
    "2. Push to github\n",
    "3. List the notebooks you would like to make available as HTML pages in your readme\n",
    "4. Look up the URL to notebooks on github, for example:\n",
    "    https://github.com/radekosmulski/python_shorts/blob/master/debugging_inside_jupyter_notebooks.ipynb\n",
    "5. Construct a URL that will open your notebook in nbviewer:\n",
    "\n",
    "    &lt;`http://nbviewer.jupyter.org/github/`>&lt;everything from url in `#4` after `https://github.com/`>\n",
    "    \n",
    "    For example:\n",
    "    http://nbviewer.jupyter.org/github/radekosmulski/python_shorts/blob/master/caching_expensive_calculations.ipynb\n",
    "6. Link to the URL from your README.md using markdown\n",
    " \n",
    " \n",
    "### Serving your HTML via GithubPages\n",
    "1. Create a README.md in the root of your repospitory\n",
    "2. Create docs directory in the root of your repository\n",
    "3. Convert notebooks to HTML using jupyter nbconvert:\n",
    "    \n",
    "    `jupyter nbconvert --to html --output-dir docs *.ipynb`\n",
    "4. Push to github\n",
    "5. On github, go to settings of your repository > GitHub Pages > Source and select `master branch / docs folder` and save\n",
    "6. Note the URL your site will be published at, for example: `https://radekosmulski.github.io/python_shorts/`\n",
    "7. In your readme, link to \n",
    "\n",
    "    &lt;`site URL`>&lt;`name of HTML file`>\n",
    "    \n",
    "    For example:\n",
    "    https://radekosmulski.github.io/python_shorts/debugging_inside_jupyter_notebooks.html\n",
    "    \n",
    "    \n",
    "#### How to create a link using markdown\n",
    "In your text file, the following will create a link `[link text](URL)`"
   ]
  }
 ],
 "metadata": {
  "kernelspec": {
   "display_name": "Python 3",
   "language": "python",
   "name": "python3"
  },
  "language_info": {
   "codemirror_mode": {
    "name": "ipython",
    "version": 3
   },
   "file_extension": ".py",
   "mimetype": "text/x-python",
   "name": "python",
   "nbconvert_exporter": "python",
   "pygments_lexer": "ipython3",
   "version": "3.6.4"
  }
 },
 "nbformat": 4,
 "nbformat_minor": 2
}
