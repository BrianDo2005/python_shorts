{
 "cells": [
  {
   "cell_type": "markdown",
   "metadata": {},
   "source": [
    "# Passing data around"
   ]
  },
  {
   "cell_type": "markdown",
   "metadata": {},
   "source": [
    "The heart of your machine learning pipeline will often be a component that iteratively presents batches of training examples to your model.\n",
    "\n",
    "This is frequently referred to as the training loop."
   ]
  },
  {
   "cell_type": "code",
   "execution_count": 1,
   "metadata": {},
   "outputs": [
    {
     "name": "stdout",
     "output_type": "stream",
     "text": [
      "Learning from x=[ 1.7] and y=[2]\n",
      "Learning from x=[ 0.3] and y=[4]\n"
     ]
    }
   ],
   "source": [
    "import torch\n",
    "import numpy as np\n",
    "\n",
    "xs = np.array([[1.7], [0.3]])\n",
    "ys = np.array([[2], [4]])\n",
    "train_set = zip(xs, ys)\n",
    "\n",
    "class Model(torch.nn.modules.Module):\n",
    "    def forward(self, x, y):\n",
    "        print(f'Learning from x={x} and y={y}')\n",
    "    \n",
    "m = Model()\n",
    "for x, y in train_set:\n",
    "    m(x, y)"
   ]
  },
  {
   "cell_type": "markdown",
   "metadata": {},
   "source": [
    "But what if we would like the same training loop to work with models of greater complexity?\n",
    "\n",
    "For instance, we might have a model that takes in continuous values (floats) and embedding indices (integers) — these cannot coexist in a single Numpy ndarray or a PyTorch Tensor and we need to pass them in separately."
   ]
  },
  {
   "cell_type": "code",
   "execution_count": 2,
   "metadata": {},
   "outputs": [
    {
     "ename": "ValueError",
     "evalue": "too many values to unpack (expected 2)",
     "output_type": "error",
     "traceback": [
      "\u001b[0;31m---------------------------------------------------------------------------\u001b[0m",
      "\u001b[0;31mValueError\u001b[0m                                Traceback (most recent call last)",
      "\u001b[0;32m<ipython-input-2-8c372a2aa727>\u001b[0m in \u001b[0;36m<module>\u001b[0;34m()\u001b[0m\n\u001b[1;32m      9\u001b[0m \u001b[0;34m\u001b[0m\u001b[0m\n\u001b[1;32m     10\u001b[0m \u001b[0mem\u001b[0m \u001b[0;34m=\u001b[0m \u001b[0mEmbeddingModel\u001b[0m\u001b[0;34m(\u001b[0m\u001b[0;34m)\u001b[0m\u001b[0;34m\u001b[0m\u001b[0m\n\u001b[0;32m---> 11\u001b[0;31m \u001b[0;32mfor\u001b[0m \u001b[0mx\u001b[0m\u001b[0;34m,\u001b[0m \u001b[0my\u001b[0m \u001b[0;32min\u001b[0m \u001b[0mtrain_set\u001b[0m\u001b[0;34m:\u001b[0m\u001b[0;34m\u001b[0m\u001b[0m\n\u001b[0m\u001b[1;32m     12\u001b[0m     \u001b[0mem\u001b[0m\u001b[0;34m(\u001b[0m\u001b[0mx\u001b[0m\u001b[0;34m,\u001b[0m \u001b[0my\u001b[0m\u001b[0;34m)\u001b[0m\u001b[0;34m\u001b[0m\u001b[0m\n",
      "\u001b[0;31mValueError\u001b[0m: too many values to unpack (expected 2)"
     ]
    }
   ],
   "source": [
    "cont_values = np.array([[1.7], [0.3]])\n",
    "embedding_idxs = np.array([[1], [3]])\n",
    "ys = np.array([[2], [4]])\n",
    "train_set = zip(cont_values, embedding_idxs, ys)\n",
    "\n",
    "class EmbeddingModel(torch.nn.modules.Module):\n",
    "    def forward(self, cont, idx, y):\n",
    "        print(f'Learning from cont={cont}, idx={idx} and y={y}')\n",
    "    \n",
    "em = EmbeddingModel()\n",
    "for x, y in train_set:\n",
    "    em(x, y)"
   ]
  },
  {
   "cell_type": "markdown",
   "metadata": {},
   "source": [
    "Extended Iterable Unpacking ([PEP 3132](https://www.python.org/dev/peps/pep-3132/)) to the rescue!"
   ]
  },
  {
   "cell_type": "code",
   "execution_count": 3,
   "metadata": {},
   "outputs": [
    {
     "name": "stdout",
     "output_type": "stream",
     "text": [
      "Learning from cont=[ 1.7], idx=[1] and y=[2]\n",
      "Learning from cont=[ 0.3], idx=[3] and y=[4]\n"
     ]
    }
   ],
   "source": [
    "train_set = zip(cont_values, embedding_idxs, ys)\n",
    "\n",
    "for *x, y in train_set: # <- this is where the magic happens\n",
    "    em(*x, y)"
   ]
  },
  {
   "cell_type": "markdown",
   "metadata": {},
   "source": [
    "In essence, this is what is going on"
   ]
  },
  {
   "cell_type": "code",
   "execution_count": 4,
   "metadata": {},
   "outputs": [
    {
     "data": {
      "text/plain": [
       "[0, 1, 2, 3]"
      ]
     },
     "execution_count": 4,
     "metadata": {},
     "output_type": "execute_result"
    }
   ],
   "source": [
    "lst = [[0, 1, 2, 3, 'last']]\n",
    "for *all_but_last, last in lst:\n",
    "    pass\n",
    "\n",
    "all_but_last"
   ]
  },
  {
   "cell_type": "markdown",
   "metadata": {},
   "source": [
    "But the utility of this does not stop here! You can also do things such as the\n",
    "following"
   ]
  },
  {
   "cell_type": "code",
   "execution_count": 5,
   "metadata": {},
   "outputs": [
    {
     "data": {
      "text/plain": [
       "[0, 1, 2]"
      ]
     },
     "execution_count": 5,
     "metadata": {},
     "output_type": "execute_result"
    }
   ],
   "source": [
    "frst, *mid, last = ['first', 0, 1, 2, 'last']\n",
    "mid"
   ]
  },
  {
   "cell_type": "markdown",
   "metadata": {},
   "source": [
    "As the name suggests (Extended Iterable Unpacking), this will work with any\n",
    "iterable\n"
   ]
  },
  {
   "cell_type": "code",
   "execution_count": 6,
   "metadata": {},
   "outputs": [
    {
     "data": {
      "text/plain": [
       "[0, 1, 2]"
      ]
     },
     "execution_count": 6,
     "metadata": {},
     "output_type": "execute_result"
    }
   ],
   "source": [
    "frst, *mid, last = (item for item in ['first', 0, 1, 2, 'last'])\n",
    "\n",
    "mid"
   ]
  },
  {
   "cell_type": "code",
   "execution_count": 7,
   "metadata": {},
   "outputs": [
    {
     "data": {
      "text/plain": [
       "[0, 1, 2, 3, 4]"
      ]
     },
     "execution_count": 7,
     "metadata": {},
     "output_type": "execute_result"
    }
   ],
   "source": [
    "*everything, = range(5)\n",
    "everything"
   ]
  },
  {
   "cell_type": "markdown",
   "metadata": {},
   "source": [
    "When presented using a contrived example, this might seem gimmicky and more of\n",
    "a party trick than something genuinely useful. In the wild however, this\n",
    "little asterisk in front of your variable name can be very handy — it can\n",
    "grant your code flexibility and re-usability that otherwise would be hard to\n",
    "attain and might require quite a few additional lines of code."
   ]
  }
 ],
 "metadata": {
  "kernelspec": {
   "display_name": "Python 3",
   "language": "python",
   "name": "python3"
  },
  "language_info": {
   "codemirror_mode": {
    "name": "ipython",
    "version": 3
   },
   "file_extension": ".py",
   "mimetype": "text/x-python",
   "name": "python",
   "nbconvert_exporter": "python",
   "pygments_lexer": "ipython3",
   "version": "3.6.4"
  }
 },
 "nbformat": 4,
 "nbformat_minor": 2
}
